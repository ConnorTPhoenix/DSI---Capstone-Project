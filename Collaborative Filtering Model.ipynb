{
 "cells": [
  {
   "cell_type": "code",
   "execution_count": 1,
   "metadata": {
    "collapsed": false
   },
   "outputs": [],
   "source": [
    "import pandas as pd\n",
    "import numpy as np\n",
    "import math\n",
    "import warnings\n",
    "warnings.filterwarnings('ignore')\n",
    "from sklearn.metrics.pairwise import cosine_similarity\n",
    "pd.set_option('display.float_format', lambda x: '%.2f' % x)"
   ]
  },
  {
   "cell_type": "code",
   "execution_count": 2,
   "metadata": {
    "collapsed": false
   },
   "outputs": [],
   "source": [
    "matrix = pd.read_csv('../DSI---Capstone-Project/matrix.csv')"
   ]
  },
  {
   "cell_type": "code",
   "execution_count": 3,
   "metadata": {
    "collapsed": false
   },
   "outputs": [
    {
     "data": {
      "text/plain": [
       "count   24323.00\n",
       "mean      186.23\n",
       "std       291.63\n",
       "min         1.00\n",
       "25%        23.00\n",
       "50%        77.00\n",
       "75%       229.00\n",
       "max      3992.00\n",
       "Name: Total Plays, dtype: float64"
      ]
     },
     "execution_count": 3,
     "metadata": {},
     "output_type": "execute_result"
    }
   ],
   "source": [
    "matrix['Total Plays']=matrix.sum(axis=1)\n",
    "matrix['Total Plays'].describe()"
   ]
  },
  {
   "cell_type": "code",
   "execution_count": 4,
   "metadata": {
    "collapsed": false
   },
   "outputs": [
    {
     "data": {
      "text/html": [
       "<div>\n",
       "<table border=\"1\" class=\"dataframe\">\n",
       "  <thead>\n",
       "    <tr style=\"text-align: right;\">\n",
       "      <th></th>\n",
       "      <th>user_000001</th>\n",
       "      <th>user_000002</th>\n",
       "      <th>user_000003</th>\n",
       "      <th>user_000004</th>\n",
       "      <th>user_000005</th>\n",
       "      <th>user_000006</th>\n",
       "      <th>user_000007</th>\n",
       "      <th>user_000008</th>\n",
       "      <th>user_000009</th>\n",
       "      <th>user_000010</th>\n",
       "      <th>...</th>\n",
       "      <th>user_000992</th>\n",
       "      <th>user_000993</th>\n",
       "      <th>user_000994</th>\n",
       "      <th>user_000995</th>\n",
       "      <th>user_000996</th>\n",
       "      <th>user_000997</th>\n",
       "      <th>user_000998</th>\n",
       "      <th>user_000999</th>\n",
       "      <th>user_001000</th>\n",
       "      <th>Total Plays</th>\n",
       "    </tr>\n",
       "  </thead>\n",
       "  <tbody>\n",
       "    <tr>\n",
       "      <th>!!!: All My Heroes Are Weirdos</th>\n",
       "      <td>0.00</td>\n",
       "      <td>0.00</td>\n",
       "      <td>0.00</td>\n",
       "      <td>7.00</td>\n",
       "      <td>0.00</td>\n",
       "      <td>0.00</td>\n",
       "      <td>0.00</td>\n",
       "      <td>0.00</td>\n",
       "      <td>0.00</td>\n",
       "      <td>0.00</td>\n",
       "      <td>...</td>\n",
       "      <td>0.00</td>\n",
       "      <td>5.00</td>\n",
       "      <td>0.00</td>\n",
       "      <td>0.00</td>\n",
       "      <td>0.00</td>\n",
       "      <td>0.00</td>\n",
       "      <td>0.00</td>\n",
       "      <td>0.00</td>\n",
       "      <td>0.00</td>\n",
       "      <td>336.00</td>\n",
       "    </tr>\n",
       "    <tr>\n",
       "      <th>!!!: Bend Over Beethoven</th>\n",
       "      <td>0.00</td>\n",
       "      <td>0.00</td>\n",
       "      <td>0.00</td>\n",
       "      <td>4.00</td>\n",
       "      <td>0.00</td>\n",
       "      <td>0.00</td>\n",
       "      <td>0.00</td>\n",
       "      <td>0.00</td>\n",
       "      <td>0.00</td>\n",
       "      <td>0.00</td>\n",
       "      <td>...</td>\n",
       "      <td>0.00</td>\n",
       "      <td>0.00</td>\n",
       "      <td>0.00</td>\n",
       "      <td>0.00</td>\n",
       "      <td>0.00</td>\n",
       "      <td>0.00</td>\n",
       "      <td>0.00</td>\n",
       "      <td>0.00</td>\n",
       "      <td>0.00</td>\n",
       "      <td>196.00</td>\n",
       "    </tr>\n",
       "  </tbody>\n",
       "</table>\n",
       "<p>2 rows × 989 columns</p>\n",
       "</div>"
      ],
      "text/plain": [
       "                                user_000001  user_000002  user_000003  \\\n",
       "!!!: All My Heroes Are Weirdos         0.00         0.00         0.00   \n",
       "!!!: Bend Over Beethoven               0.00         0.00         0.00   \n",
       "\n",
       "                                user_000004  user_000005  user_000006  \\\n",
       "!!!: All My Heroes Are Weirdos         7.00         0.00         0.00   \n",
       "!!!: Bend Over Beethoven               4.00         0.00         0.00   \n",
       "\n",
       "                                user_000007  user_000008  user_000009  \\\n",
       "!!!: All My Heroes Are Weirdos         0.00         0.00         0.00   \n",
       "!!!: Bend Over Beethoven               0.00         0.00         0.00   \n",
       "\n",
       "                                user_000010     ...       user_000992  \\\n",
       "!!!: All My Heroes Are Weirdos         0.00     ...              0.00   \n",
       "!!!: Bend Over Beethoven               0.00     ...              0.00   \n",
       "\n",
       "                                user_000993  user_000994  user_000995  \\\n",
       "!!!: All My Heroes Are Weirdos         5.00         0.00         0.00   \n",
       "!!!: Bend Over Beethoven               0.00         0.00         0.00   \n",
       "\n",
       "                                user_000996  user_000997  user_000998  \\\n",
       "!!!: All My Heroes Are Weirdos         0.00         0.00         0.00   \n",
       "!!!: Bend Over Beethoven               0.00         0.00         0.00   \n",
       "\n",
       "                                user_000999  user_001000  Total Plays  \n",
       "!!!: All My Heroes Are Weirdos         0.00         0.00       336.00  \n",
       "!!!: Bend Over Beethoven               0.00         0.00       196.00  \n",
       "\n",
       "[2 rows x 989 columns]"
      ]
     },
     "execution_count": 4,
     "metadata": {},
     "output_type": "execute_result"
    }
   ],
   "source": [
    "matrix.head(2)"
   ]
  },
  {
   "cell_type": "code",
   "execution_count": 29,
   "metadata": {
    "collapsed": false
   },
   "outputs": [
    {
     "data": {
      "text/plain": [
       "(0.90    489.00\n",
       " 0.91    528.00\n",
       " 0.92    561.00\n",
       " 0.93    603.00\n",
       " 0.94    662.68\n",
       " 0.95    730.00\n",
       " 0.96    816.00\n",
       " 0.97    928.00\n",
       " 0.98   1084.56\n",
       " 0.99   1401.78\n",
       " Name: Total Plays, dtype: float64,)"
      ]
     },
     "execution_count": 29,
     "metadata": {},
     "output_type": "execute_result"
    }
   ],
   "source": [
    "matrix['Total Plays'].quantile(np.arange(.9, 1, .01)),"
   ]
  },
  {
   "cell_type": "markdown",
   "metadata": {},
   "source": [
    "### Filter Matrix to Include Only Songs that Have Been Played >50 Times"
   ]
  },
  {
   "cell_type": "code",
   "execution_count": 5,
   "metadata": {
    "collapsed": false
   },
   "outputs": [
    {
     "data": {
      "text/plain": [
       "(14503, 989)"
      ]
     },
     "execution_count": 5,
     "metadata": {},
     "output_type": "execute_result"
    }
   ],
   "source": [
    "matrix = matrix[matrix['Total Plays'] > 50]\n",
    "matrix.shape"
   ]
  },
  {
   "cell_type": "code",
   "execution_count": 6,
   "metadata": {
    "collapsed": false
   },
   "outputs": [],
   "source": [
    "# Summary of Total Plays by Track \n",
    "matrix.T['Total Plays'] = matrix.T.sum()"
   ]
  },
  {
   "cell_type": "markdown",
   "metadata": {},
   "source": [
    "### What Are the Top Played Tracks in This Dataset?"
   ]
  },
  {
   "cell_type": "code",
   "execution_count": 159,
   "metadata": {
    "collapsed": false
   },
   "outputs": [
    {
     "name": "stdout",
     "output_type": "stream",
     "text": [
      "Top Tracks by Total Number of Plays\n"
     ]
    },
    {
     "data": {
      "text/plain": [
       "The Postal Service: Such Great Heights                 8006.50\n",
       "Radiohead: Karma Police                                7219.50\n",
       "Muse: Supermassive Black Hole                          6985.50\n",
       "Death Cab For Cutie: Soul Meets Body                   6969.50\n",
       "The Knife: Heartbeats                                  6318.00\n",
       "Muse: Starlight                                        6139.50\n",
       "Arcade Fire: Rebellion (Lies)                          6117.00\n",
       "The Killers: When You Were Young                       6067.50\n",
       "Britney Spears: Gimme More                             6008.00\n",
       "Interpol: Evil                                         5979.00\n",
       "Muse: Time Is Running Out                              5976.00\n",
       "Massive Attack: Teardrop                               5907.50\n",
       "Death Cab For Cutie: I Will Follow You Into The Dark   5906.00\n",
       "Kanye West: Love Lockdown                              5900.00\n",
       "Bloc Party: Banquet                                    5831.50\n",
       "Gnarls Barkley: Crazy                                  5416.50\n",
       "Radiohead: All I Need                                  5392.50\n",
       "Radiohead: Creep                                       5370.51\n",
       "The Postal Service: Nothing Better                     5358.50\n",
       "Snow Patrol: Chasing Cars                              5341.00\n",
       "Name: Total Plays, dtype: float64"
      ]
     },
     "execution_count": 159,
     "metadata": {},
     "output_type": "execute_result"
    }
   ],
   "source": [
    "print 'Top Tracks by Total Number of Plays'\n",
    "matrix['Total Plays'].sort_values(ascending=False).head(20)"
   ]
  },
  {
   "cell_type": "markdown",
   "metadata": {},
   "source": [
    "### Top 10 Users by Total Plays"
   ]
  },
  {
   "cell_type": "code",
   "execution_count": 7,
   "metadata": {
    "collapsed": false,
    "scrolled": true
   },
   "outputs": [
    {
     "data": {
      "text/plain": [
       "Total Plays   4336688.00\n",
       "user_000949     95254.00\n",
       "user_000791     66321.00\n",
       "user_000155     47092.00\n",
       "user_000833     35195.00\n",
       "user_000298     33438.00\n",
       "user_000544     32861.00\n",
       "user_000577     31985.00\n",
       "user_000543     30222.00\n",
       "user_000529     29889.00\n",
       "dtype: float64"
      ]
     },
     "execution_count": 7,
     "metadata": {},
     "output_type": "execute_result"
    }
   ],
   "source": [
    "matrix.sum().sort_values(ascending=False).head(10)"
   ]
  },
  {
   "cell_type": "markdown",
   "metadata": {},
   "source": [
    "### Top 10 Users by Total Unique Plays"
   ]
  },
  {
   "cell_type": "code",
   "execution_count": 34,
   "metadata": {
    "collapsed": false
   },
   "outputs": [
    {
     "data": {
      "text/plain": [
       "Total Plays    14503\n",
       "user_000691     5828\n",
       "user_000345     4167\n",
       "user_000861     4162\n",
       "user_000577     3920\n",
       "user_000958     3375\n",
       "user_000149     3367\n",
       "user_000774     3348\n",
       "user_000031     3296\n",
       "user_000837     3230\n",
       "dtype: int64"
      ]
     },
     "execution_count": 34,
     "metadata": {},
     "output_type": "execute_result"
    }
   ],
   "source": [
    "matrix.T.astype(bool).sum(axis=1).sort_values(ascending=False).head(10)"
   ]
  },
  {
   "cell_type": "markdown",
   "metadata": {},
   "source": [
    "**user_000577 is an interesting 'power user', appearing on both top 10 lists.**"
   ]
  },
  {
   "cell_type": "markdown",
   "metadata": {},
   "source": [
    "### Convert Matrix to Mean Center Cosine Distance Between Tracks"
   ]
  },
  {
   "cell_type": "code",
   "execution_count": 37,
   "metadata": {
    "collapsed": true
   },
   "outputs": [],
   "source": [
    "# def zero_cent(df, axis=1):\n",
    "#     return df.apply(lambda x: x-x.mean(), axis = axis).replace(np.nan,0)"
   ]
  },
  {
   "cell_type": "code",
   "execution_count": null,
   "metadata": {
    "collapsed": false
   },
   "outputs": [],
   "source": [
    "# matrix=matrix.T\n",
    "# df = zero_cent(matrix)\n",
    "# cosims={}"
   ]
  },
  {
   "cell_type": "code",
   "execution_count": null,
   "metadata": {
    "collapsed": false
   },
   "outputs": [],
   "source": [
    "# counter = 0\n",
    "# for i in df.index:\n",
    "#     counter += 1\n",
    "#     if counter%100==0:\n",
    "#         print counter,\n",
    "#     else:\n",
    "#         pass\n",
    "#     cosims[i] = cosine_similarity(df, df.loc[i,:]).ravel()\n",
    "# cosim_df = pd.DataFrame.from_dict(cosims)\n",
    "# cosim_df.index = cosim_df.columns"
   ]
  },
  {
   "cell_type": "code",
   "execution_count": null,
   "metadata": {
    "collapsed": false
   },
   "outputs": [],
   "source": [
    "# cosim_df.index = cosim_df.columns"
   ]
  },
  {
   "cell_type": "code",
   "execution_count": null,
   "metadata": {
    "collapsed": false
   },
   "outputs": [],
   "source": [
    "# cosim_df.to_csv('../DSI---Capstone-Project/cosim_df.csv')"
   ]
  },
  {
   "cell_type": "code",
   "execution_count": 10,
   "metadata": {
    "collapsed": false
   },
   "outputs": [],
   "source": [
    "cosim_df=pd.read_csv('../DSI---Capstone-Project/cosim_df.csv', index_col='Unnamed: 0')"
   ]
  },
  {
   "cell_type": "code",
   "execution_count": 12,
   "metadata": {
    "collapsed": false,
    "scrolled": false
   },
   "outputs": [
    {
     "data": {
      "text/html": [
       "<div>\n",
       "<table border=\"1\" class=\"dataframe\">\n",
       "  <thead>\n",
       "    <tr style=\"text-align: right;\">\n",
       "      <th></th>\n",
       "      <th>!!!: All My Heroes Are Weirdos</th>\n",
       "      <th>!!!: Bend Over Beethoven</th>\n",
       "      <th>!!!: Dear Can</th>\n",
       "      <th>!!!: Heart Of Hearts</th>\n",
       "      <th>!!!: Must Be The Moon</th>\n",
       "      <th>!!!: Myth Takes</th>\n",
       "      <th>!!!: Pardon My Freedom</th>\n",
       "      <th>!!!: Sweet Life</th>\n",
       "      <th>!!!: Yadnus</th>\n",
       "      <th>\"Weird Al\" Yankovic: Polkarama!</th>\n",
       "      <th>...</th>\n",
       "      <th>スガシカオ: 夜空ノムコウ</th>\n",
       "      <th>ムック: Danzetsu</th>\n",
       "      <th>ムック: Waga Arubeki Basho</th>\n",
       "      <th>ムック: Yoru</th>\n",
       "      <th>坂本龍一: Forbidden Colours</th>\n",
       "      <th>坂本龍一: Merry Christmas Mr. Lawrence</th>\n",
       "      <th>布袋寅泰: Battle Without Honor Or Humanity</th>\n",
       "      <th>浜崎あゆみ: Part Of Me</th>\n",
       "      <th>雅-Miyavi-: Are You Ready To Love?</th>\n",
       "      <th>黒夢: Nite&amp;Day-New Take-</th>\n",
       "    </tr>\n",
       "  </thead>\n",
       "  <tbody>\n",
       "    <tr>\n",
       "      <th>!!!: All My Heroes Are Weirdos</th>\n",
       "      <td>1.00</td>\n",
       "      <td>0.99</td>\n",
       "      <td>0.95</td>\n",
       "      <td>0.92</td>\n",
       "      <td>0.99</td>\n",
       "      <td>1.00</td>\n",
       "      <td>0.98</td>\n",
       "      <td>0.98</td>\n",
       "      <td>0.99</td>\n",
       "      <td>0.90</td>\n",
       "      <td>...</td>\n",
       "      <td>0.75</td>\n",
       "      <td>0.76</td>\n",
       "      <td>0.72</td>\n",
       "      <td>0.77</td>\n",
       "      <td>0.78</td>\n",
       "      <td>0.88</td>\n",
       "      <td>0.95</td>\n",
       "      <td>0.70</td>\n",
       "      <td>0.71</td>\n",
       "      <td>0.69</td>\n",
       "    </tr>\n",
       "    <tr>\n",
       "      <th>!!!: Bend Over Beethoven</th>\n",
       "      <td>0.99</td>\n",
       "      <td>1.00</td>\n",
       "      <td>0.96</td>\n",
       "      <td>0.92</td>\n",
       "      <td>0.99</td>\n",
       "      <td>0.99</td>\n",
       "      <td>0.97</td>\n",
       "      <td>0.99</td>\n",
       "      <td>1.00</td>\n",
       "      <td>0.89</td>\n",
       "      <td>...</td>\n",
       "      <td>0.74</td>\n",
       "      <td>0.75</td>\n",
       "      <td>0.72</td>\n",
       "      <td>0.76</td>\n",
       "      <td>0.77</td>\n",
       "      <td>0.87</td>\n",
       "      <td>0.94</td>\n",
       "      <td>0.70</td>\n",
       "      <td>0.70</td>\n",
       "      <td>0.68</td>\n",
       "    </tr>\n",
       "  </tbody>\n",
       "</table>\n",
       "<p>2 rows × 14504 columns</p>\n",
       "</div>"
      ],
      "text/plain": [
       "                                !!!: All My Heroes Are Weirdos  \\\n",
       "!!!: All My Heroes Are Weirdos                            1.00   \n",
       "!!!: Bend Over Beethoven                                  0.99   \n",
       "\n",
       "                                !!!: Bend Over Beethoven  !!!: Dear Can  \\\n",
       "!!!: All My Heroes Are Weirdos                      0.99           0.95   \n",
       "!!!: Bend Over Beethoven                            1.00           0.96   \n",
       "\n",
       "                                !!!: Heart Of Hearts  !!!: Must Be The Moon  \\\n",
       "!!!: All My Heroes Are Weirdos                  0.92                   0.99   \n",
       "!!!: Bend Over Beethoven                        0.92                   0.99   \n",
       "\n",
       "                                !!!: Myth Takes  !!!: Pardon My Freedom  \\\n",
       "!!!: All My Heroes Are Weirdos             1.00                    0.98   \n",
       "!!!: Bend Over Beethoven                   0.99                    0.97   \n",
       "\n",
       "                                !!!: Sweet Life  !!!: Yadnus  \\\n",
       "!!!: All My Heroes Are Weirdos             0.98         0.99   \n",
       "!!!: Bend Over Beethoven                   0.99         1.00   \n",
       "\n",
       "                                \"Weird Al\" Yankovic: Polkarama!  \\\n",
       "!!!: All My Heroes Are Weirdos                             0.90   \n",
       "!!!: Bend Over Beethoven                                   0.89   \n",
       "\n",
       "                                         ...            スガシカオ: 夜空ノムコウ  \\\n",
       "!!!: All My Heroes Are Weirdos           ...                     0.75   \n",
       "!!!: Bend Over Beethoven                 ...                     0.74   \n",
       "\n",
       "                                ムック: Danzetsu  ムック: Waga Arubeki Basho  \\\n",
       "!!!: All My Heroes Are Weirdos           0.76                     0.72   \n",
       "!!!: Bend Over Beethoven                 0.75                     0.72   \n",
       "\n",
       "                                ムック: Yoru  坂本龍一: Forbidden Colours  \\\n",
       "!!!: All My Heroes Are Weirdos       0.77                     0.78   \n",
       "!!!: Bend Over Beethoven             0.76                     0.77   \n",
       "\n",
       "                                坂本龍一: Merry Christmas Mr. Lawrence  \\\n",
       "!!!: All My Heroes Are Weirdos                                0.88   \n",
       "!!!: Bend Over Beethoven                                      0.87   \n",
       "\n",
       "                                布袋寅泰: Battle Without Honor Or Humanity  \\\n",
       "!!!: All My Heroes Are Weirdos                                    0.95   \n",
       "!!!: Bend Over Beethoven                                          0.94   \n",
       "\n",
       "                                浜崎あゆみ: Part Of Me  \\\n",
       "!!!: All My Heroes Are Weirdos               0.70   \n",
       "!!!: Bend Over Beethoven                     0.70   \n",
       "\n",
       "                                雅-Miyavi-: Are You Ready To Love?  \\\n",
       "!!!: All My Heroes Are Weirdos                               0.71   \n",
       "!!!: Bend Over Beethoven                                     0.70   \n",
       "\n",
       "                                黒夢: Nite&Day-New Take-  \n",
       "!!!: All My Heroes Are Weirdos                    0.69  \n",
       "!!!: Bend Over Beethoven                          0.68  \n",
       "\n",
       "[2 rows x 14504 columns]"
      ]
     },
     "execution_count": 12,
     "metadata": {},
     "output_type": "execute_result"
    }
   ],
   "source": [
    "cosim_df.head(2)"
   ]
  },
  {
   "cell_type": "code",
   "execution_count": 21,
   "metadata": {
    "collapsed": false
   },
   "outputs": [],
   "source": [
    "def generate_recommendations(user, no_songs, new = True):\n",
    "    predicts = []\n",
    "    for song in matrix.index:\n",
    "        index = cosim_df[song].sort_values().iloc[-4:-1].index\n",
    "        cosim=cosim_df[song].sort_values().iloc[-4:-1].values\n",
    "        predicts.append((cosim[0]*matrix.loc[index[0],user] + cosim[1]*matrix.loc[index[1], user])/(cosim[0]+cosim[1]))\n",
    "    rf = pd.DataFrame(zip(predicts, matrix[user]))\n",
    "    rf.index = matrix.index\n",
    "    rf.columns = ['Recommendations', 'Actual Plays']\n",
    "    if new == True:\n",
    "        return rf[rf['Actual Plays']==0][['Recommendations']].sort('Recommendations', ascending=False).head(10).head(no_songs)\n",
    "    else:\n",
    "        return rf[['Recommendations']].sort('Recommendations', ascending=False).head(10).head(no_songs)\n"
   ]
  },
  {
   "cell_type": "markdown",
   "metadata": {},
   "source": [
    "### 'user_000577' Top Plays"
   ]
  },
  {
   "cell_type": "code",
   "execution_count": 30,
   "metadata": {
    "collapsed": false
   },
   "outputs": [
    {
     "data": {
      "text/html": [
       "<div>\n",
       "<table border=\"1\" class=\"dataframe\">\n",
       "  <thead>\n",
       "    <tr style=\"text-align: right;\">\n",
       "      <th></th>\n",
       "      <th>user_000577</th>\n",
       "    </tr>\n",
       "  </thead>\n",
       "  <tbody>\n",
       "    <tr>\n",
       "      <th>Evanescence: My Immortal</th>\n",
       "      <td>285.00</td>\n",
       "    </tr>\n",
       "    <tr>\n",
       "      <th>Sia: Breathe Me</th>\n",
       "      <td>230.00</td>\n",
       "    </tr>\n",
       "    <tr>\n",
       "      <th>Rage Against The Machine: Beautiful World</th>\n",
       "      <td>230.00</td>\n",
       "    </tr>\n",
       "    <tr>\n",
       "      <th>Massive Attack: Angel</th>\n",
       "      <td>223.00</td>\n",
       "    </tr>\n",
       "    <tr>\n",
       "      <th>Damien Rice: 9 Crimes</th>\n",
       "      <td>220.00</td>\n",
       "    </tr>\n",
       "    <tr>\n",
       "      <th>John Lennon: Imagine</th>\n",
       "      <td>200.00</td>\n",
       "    </tr>\n",
       "    <tr>\n",
       "      <th>Iron &amp; Wine: Such Great Heights</th>\n",
       "      <td>180.00</td>\n",
       "    </tr>\n",
       "    <tr>\n",
       "      <th>Radiohead: Exit Music (For A Film)</th>\n",
       "      <td>178.00</td>\n",
       "    </tr>\n",
       "    <tr>\n",
       "      <th>Lou Reed: Perfect Day</th>\n",
       "      <td>171.00</td>\n",
       "    </tr>\n",
       "    <tr>\n",
       "      <th>The Dresden Dolls: Coin-Operated Boy</th>\n",
       "      <td>170.00</td>\n",
       "    </tr>\n",
       "  </tbody>\n",
       "</table>\n",
       "</div>"
      ],
      "text/plain": [
       "                                           user_000577\n",
       "Evanescence: My Immortal                        285.00\n",
       "Sia: Breathe Me                                 230.00\n",
       "Rage Against The Machine: Beautiful World       230.00\n",
       "Massive Attack: Angel                           223.00\n",
       "Damien Rice: 9 Crimes                           220.00\n",
       "John Lennon: Imagine                            200.00\n",
       "Iron & Wine: Such Great Heights                 180.00\n",
       "Radiohead: Exit Music (For A Film)              178.00\n",
       "Lou Reed: Perfect Day                           171.00\n",
       "The Dresden Dolls: Coin-Operated Boy            170.00"
      ]
     },
     "execution_count": 30,
     "metadata": {},
     "output_type": "execute_result"
    }
   ],
   "source": [
    "matrix[['user_000577']].sort('user_000577', ascending=False).head(10)"
   ]
  },
  {
   "cell_type": "markdown",
   "metadata": {},
   "source": [
    "### Generate Top Recommendations for 'user_000577"
   ]
  },
  {
   "cell_type": "code",
   "execution_count": 23,
   "metadata": {
    "collapsed": false
   },
   "outputs": [
    {
     "data": {
      "text/html": [
       "<div>\n",
       "<table border=\"1\" class=\"dataframe\">\n",
       "  <thead>\n",
       "    <tr style=\"text-align: right;\">\n",
       "      <th></th>\n",
       "      <th>Recommendations</th>\n",
       "    </tr>\n",
       "  </thead>\n",
       "  <tbody>\n",
       "    <tr>\n",
       "      <th>Lou Reed: Perfect Day</th>\n",
       "      <td>200.52</td>\n",
       "    </tr>\n",
       "    <tr>\n",
       "      <th>Sia: Don'T Bring Me Down</th>\n",
       "      <td>200.46</td>\n",
       "    </tr>\n",
       "    <tr>\n",
       "      <th>Rufus Wainwright: Hallelujah</th>\n",
       "      <td>186.95</td>\n",
       "    </tr>\n",
       "    <tr>\n",
       "      <th>Evanescence: My Immortal</th>\n",
       "      <td>179.50</td>\n",
       "    </tr>\n",
       "    <tr>\n",
       "      <th>Flunk: Play</th>\n",
       "      <td>176.50</td>\n",
       "    </tr>\n",
       "    <tr>\n",
       "      <th>The Herbaliser: Sensual Woman</th>\n",
       "      <td>176.50</td>\n",
       "    </tr>\n",
       "    <tr>\n",
       "      <th>Sia: Breathe Me</th>\n",
       "      <td>174.50</td>\n",
       "    </tr>\n",
       "    <tr>\n",
       "      <th>Kylie Minogue: Santa Baby</th>\n",
       "      <td>168.50</td>\n",
       "    </tr>\n",
       "    <tr>\n",
       "      <th>Damien Rice: 9 Crimes</th>\n",
       "      <td>160.98</td>\n",
       "    </tr>\n",
       "    <tr>\n",
       "      <th>Frank Sinatra: Strangers In The Night</th>\n",
       "      <td>155.00</td>\n",
       "    </tr>\n",
       "  </tbody>\n",
       "</table>\n",
       "</div>"
      ],
      "text/plain": [
       "                                       Recommendations\n",
       "Lou Reed: Perfect Day                           200.52\n",
       "Sia: Don'T Bring Me Down                        200.46\n",
       "Rufus Wainwright: Hallelujah                    186.95\n",
       "Evanescence: My Immortal                        179.50\n",
       "Flunk: Play                                     176.50\n",
       "The Herbaliser: Sensual Woman                   176.50\n",
       "Sia: Breathe Me                                 174.50\n",
       "Kylie Minogue: Santa Baby                       168.50\n",
       "Damien Rice: 9 Crimes                           160.98\n",
       "Frank Sinatra: Strangers In The Night           155.00"
      ]
     },
     "execution_count": 23,
     "metadata": {},
     "output_type": "execute_result"
    }
   ],
   "source": [
    "generate_recommendations('user_000577', 10, new = False)"
   ]
  },
  {
   "cell_type": "markdown",
   "metadata": {},
   "source": [
    "### Generate Top New Recommendations for 'user_000577'"
   ]
  },
  {
   "cell_type": "code",
   "execution_count": 22,
   "metadata": {
    "collapsed": false
   },
   "outputs": [
    {
     "data": {
      "text/html": [
       "<div>\n",
       "<table border=\"1\" class=\"dataframe\">\n",
       "  <thead>\n",
       "    <tr style=\"text-align: right;\">\n",
       "      <th></th>\n",
       "      <th>Recommendations</th>\n",
       "    </tr>\n",
       "  </thead>\n",
       "  <tbody>\n",
       "    <tr>\n",
       "      <th>Radiohead: 2+2= 5</th>\n",
       "      <td>113.52</td>\n",
       "    </tr>\n",
       "    <tr>\n",
       "      <th>Lacuna Coil: You Create</th>\n",
       "      <td>82.58</td>\n",
       "    </tr>\n",
       "    <tr>\n",
       "      <th>Beirut: The Shrew</th>\n",
       "      <td>82.51</td>\n",
       "    </tr>\n",
       "    <tr>\n",
       "      <th>Lacuna Coil: In Visible Light</th>\n",
       "      <td>82.15</td>\n",
       "    </tr>\n",
       "    <tr>\n",
       "      <th>Iggy Pop: The Passenger</th>\n",
       "      <td>61.50</td>\n",
       "    </tr>\n",
       "    <tr>\n",
       "      <th>Nickelback: Too Bad</th>\n",
       "      <td>58.50</td>\n",
       "    </tr>\n",
       "    <tr>\n",
       "      <th>Zero 7: Give It Away</th>\n",
       "      <td>57.50</td>\n",
       "    </tr>\n",
       "    <tr>\n",
       "      <th>Yann Tiersen: Bagatelle</th>\n",
       "      <td>55.50</td>\n",
       "    </tr>\n",
       "    <tr>\n",
       "      <th>Herbie Hancock: Chameleon</th>\n",
       "      <td>52.50</td>\n",
       "    </tr>\n",
       "    <tr>\n",
       "      <th>Muse: Apocalypse Please</th>\n",
       "      <td>52.02</td>\n",
       "    </tr>\n",
       "  </tbody>\n",
       "</table>\n",
       "</div>"
      ],
      "text/plain": [
       "                               Recommendations\n",
       "Radiohead: 2+2= 5                       113.52\n",
       "Lacuna Coil: You Create                  82.58\n",
       "Beirut: The Shrew                        82.51\n",
       "Lacuna Coil: In Visible Light            82.15\n",
       "Iggy Pop: The Passenger                  61.50\n",
       "Nickelback: Too Bad                      58.50\n",
       "Zero 7: Give It Away                     57.50\n",
       "Yann Tiersen: Bagatelle                  55.50\n",
       "Herbie Hancock: Chameleon                52.50\n",
       "Muse: Apocalypse Please                  52.02"
      ]
     },
     "execution_count": 22,
     "metadata": {},
     "output_type": "execute_result"
    }
   ],
   "source": [
    "generate_recommendations('user_000577', 10, new = True)"
   ]
  },
  {
   "cell_type": "markdown",
   "metadata": {},
   "source": [
    "### Create a Function to Evaluate Recommendation Accuracy\n",
    "* Using a 2/3 of a user's actual listening history to train the recommender, what % of the remaining 1/3 will it recommend?"
   ]
  },
  {
   "cell_type": "code",
   "execution_count": 121,
   "metadata": {
    "collapsed": false
   },
   "outputs": [],
   "source": [
    "def evaluate(user):\n",
    "    predicts = []\n",
    "    for song in matrix.index:\n",
    "        index = cosim_df[song].sort_values().iloc[-4:-1].index\n",
    "        cosim=cosim_df[song].sort_values().iloc[-4:-1].values\n",
    "        predicts.append((cosim[0]*matrix.loc[index[0],user] + cosim[1]*matrix.loc[index[1], user])/(cosim[0]+cosim[1]))\n",
    "    \n",
    "    train = []\n",
    "    for i in zip([0 for x in range(0, 14503)], matrix[user], matrix[user]):\n",
    "        train.append(np.random.choice(i, 1)[0])\n",
    "    matrix['train'] = train\n",
    "    matrix['predicts'] = predicts\n",
    "    test_len = matrix[(matrix[user]!=0)&(matrix['train']==0)].shape[0]\n",
    "    predict_len=float((matrix[(matrix[user]!=0)&(matrix['train']==0)][[user,'train', 'predicts']]\\\n",
    "    .sort('predicts', ascending=False).iloc[0:test_len,:]['predicts'] != 0).sum())\n",
    "    return predict_len/test_len"
   ]
  },
  {
   "cell_type": "code",
   "execution_count": 123,
   "metadata": {
    "collapsed": false
   },
   "outputs": [
    {
     "data": {
      "text/plain": [
       "0.8032786885245902"
      ]
     },
     "execution_count": 123,
     "metadata": {},
     "output_type": "execute_result"
    }
   ],
   "source": [
    "evaluate('user_000577')"
   ]
  }
 ],
 "metadata": {
  "kernelspec": {
   "display_name": "Python 2",
   "language": "python",
   "name": "python2"
  },
  "language_info": {
   "codemirror_mode": {
    "name": "ipython",
    "version": 2
   },
   "file_extension": ".py",
   "mimetype": "text/x-python",
   "name": "python",
   "nbconvert_exporter": "python",
   "pygments_lexer": "ipython2",
   "version": "2.7.13"
  }
 },
 "nbformat": 4,
 "nbformat_minor": 2
}
