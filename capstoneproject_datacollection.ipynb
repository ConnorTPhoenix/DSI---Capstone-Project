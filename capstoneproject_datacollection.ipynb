{
 "cells": [
  {
   "cell_type": "code",
   "execution_count": 1,
   "metadata": {
    "collapsed": false,
    "scrolled": false
   },
   "outputs": [],
   "source": [
    "from matplotlib.pyplot import imshow\n",
    "import matplotlib.pyplot as plt\n",
    "import numpy as np\n",
    "from PIL import Image\n",
    "import numpy as np\n",
    "%matplotlib inline\n",
    "import spotipy\n",
    "import pandas as pd\n",
    "import spotipy\n",
    "spotify = spotipy.Spotify()\n",
    "# FIND GENRES\n",
    "\n",
    "# results = spotify.search(q='artist:' + 'Bob Dylan', type='artist', limit = 30)\n",
    "# print(results['artists']['items'][0]['id'])\n",
    "# print(results['artists']['items'][0]['genres'])\n",
    "# print(results['artists']['items'][0]['id'])\n",
    "# results = spotify.artist_albums(results['artists']['items'][0]['id'])\n",
    "# for i in range(0, 20):\n",
    "#     print (results['items'][i]['name'], results['items'][i]['id'])\n",
    "\n",
    "# results\n",
    "\n",
    "# from PIL import Image\n",
    "# import requests\n",
    "# from io import BytesIO\n",
    "\n",
    "# import urllib, cStringIO\n",
    "\n",
    "# print(results['artists']['items'][0]['href'])\n",
    "# print(results['artists']['items'][0]['uri'])\n",
    "# results['artists']['items'][0]['popularity']\n",
    "\n",
    "# import spotipy\n",
    "\n",
    "# lz_uri = results['artists']['items'][0]['id']\n",
    "\n",
    "# spotify = spotipy.Spotify()\n",
    "# results = spotify.artist_top_tracks(lz_uri)\n",
    "\n",
    "# # Generate top album covers that correspond to 10 songs for artist\n",
    "\n",
    "# # for track in results['tracks'][:10]:\n",
    "# file = cStringIO.StringIO(urllib.urlopen(track['album']['images'][0]['url']).read())\n",
    "# pil_im = Image.open(file, 'r')\n",
    "# plt.figure()\n",
    "# plt.axis('off')\n",
    "# print ('Track: ' + track['id'])\n",
    "# plt.imshow(pil_im)\n",
    "\n",
    "\n",
    "# audio_analysis = spotify.audio_analysis('3O4TPMOgChXOerSdB5WENH')\n"
   ]
  },
  {
   "cell_type": "code",
   "execution_count": 2,
   "metadata": {
    "collapsed": false,
    "scrolled": false
   },
   "outputs": [],
   "source": [
    "import requests\n",
    "url = 'https://api.spotify.com/v1/artists/3WrFJ7ztbogyGnTHbHJFl2/albums?album_type=album&market=ES&limit=20'\n",
    "response = requests.get(url)\n",
    "results = response.json()\n",
    "albums = []\n",
    "for i in range(0, len(results['items'])):\n",
    "    albums.append(results['items'][i]['id'])\n",
    "count = 0\n",
    "songs_id = []\n",
    "for a in albums:\n",
    "    response = requests.get('https://api.spotify.com/v1/albums/{}/tracks'.format(a))\n",
    "    results = response.json()\n",
    "    count = 0\n",
    "    for track in range(0, len(results)):\n",
    "        songs_id.append(results['items'][track]['id'])\n"
   ]
  },
  {
   "cell_type": "code",
   "execution_count": 257,
   "metadata": {
    "collapsed": false
   },
   "outputs": [],
   "source": [
    "spotify = spotipy.Spotify(auth='BQBuCfBxF_j9NeN-K5coRnPWq5N4qJcdOSiPgGqmQ-wvK3KZkprDx6-wy6cKxqWs_WtJVkB-CiRFaHmuHRP9q_GsuRiH-LREMeCk3PJg-bdu6mmcgav3OG1Wn2ca2M8rxp5aYFSnriaREA')"
   ]
  },
  {
   "cell_type": "code",
   "execution_count": 4,
   "metadata": {
    "collapsed": false
   },
   "outputs": [],
   "source": [
    "# audio_analyses = []\n",
    "# for i in songs_id:\n",
    "#     audio_analyses.append(spotify.audio_analysis('{}'.format(i)))\n",
    "#     print 'n',"
   ]
  },
  {
   "cell_type": "code",
   "execution_count": 5,
   "metadata": {
    "collapsed": false,
    "scrolled": false
   },
   "outputs": [],
   "source": [
    "# audio_analyses[2]['sections']"
   ]
  },
  {
   "cell_type": "code",
   "execution_count": 6,
   "metadata": {
    "collapsed": false,
    "scrolled": true
   },
   "outputs": [],
   "source": [
    "import requests\n",
    "url = 'https://api.spotify.com/v1/search?q=track:Yesterday%20artist:The%20Beatles&type=track'\n",
    "response = requests.get(url)\n",
    "results = response.json()"
   ]
  },
  {
   "cell_type": "code",
   "execution_count": 72,
   "metadata": {
    "collapsed": false,
    "scrolled": false
   },
   "outputs": [
    {
     "data": {
      "text/plain": [
       "u'65OXGbKBQ8gUyJvUd0jNpf'"
      ]
     },
     "execution_count": 72,
     "metadata": {},
     "output_type": "execute_result"
    }
   ],
   "source": [
    "results['tracks']['items'][0]['id']"
   ]
  },
  {
   "cell_type": "code",
   "execution_count": 104,
   "metadata": {
    "collapsed": false
   },
   "outputs": [
    {
     "data": {
      "text/plain": [
       "{u'album': {u'album_type': u'album',\n",
       "  u'artists': [{u'external_urls': {u'spotify': u'https://open.spotify.com/artist/079svMEXkbT5nGU2kfoqO2'},\n",
       "    u'href': u'https://api.spotify.com/v1/artists/079svMEXkbT5nGU2kfoqO2',\n",
       "    u'id': u'079svMEXkbT5nGU2kfoqO2',\n",
       "    u'name': u'God Is An Astronaut',\n",
       "    u'type': u'artist',\n",
       "    u'uri': u'spotify:artist:079svMEXkbT5nGU2kfoqO2'}],\n",
       "  u'available_markets': [u'AD',\n",
       "   u'AR',\n",
       "   u'AT',\n",
       "   u'AU',\n",
       "   u'BE',\n",
       "   u'BG',\n",
       "   u'BO',\n",
       "   u'BR',\n",
       "   u'CA',\n",
       "   u'CH',\n",
       "   u'CL',\n",
       "   u'CO',\n",
       "   u'CR',\n",
       "   u'CY',\n",
       "   u'CZ',\n",
       "   u'DE',\n",
       "   u'DK',\n",
       "   u'DO',\n",
       "   u'EC',\n",
       "   u'EE',\n",
       "   u'ES',\n",
       "   u'FI',\n",
       "   u'FR',\n",
       "   u'GB',\n",
       "   u'GR',\n",
       "   u'GT',\n",
       "   u'HK',\n",
       "   u'HN',\n",
       "   u'HU',\n",
       "   u'ID',\n",
       "   u'IE',\n",
       "   u'IS',\n",
       "   u'IT',\n",
       "   u'JP',\n",
       "   u'LI',\n",
       "   u'LT',\n",
       "   u'LU',\n",
       "   u'LV',\n",
       "   u'MC',\n",
       "   u'MT',\n",
       "   u'MX',\n",
       "   u'MY',\n",
       "   u'NI',\n",
       "   u'NL',\n",
       "   u'NO',\n",
       "   u'NZ',\n",
       "   u'PA',\n",
       "   u'PE',\n",
       "   u'PH',\n",
       "   u'PL',\n",
       "   u'PT',\n",
       "   u'PY',\n",
       "   u'SE',\n",
       "   u'SG',\n",
       "   u'SK',\n",
       "   u'SV',\n",
       "   u'TR',\n",
       "   u'TW',\n",
       "   u'US',\n",
       "   u'UY'],\n",
       "  u'external_urls': {u'spotify': u'https://open.spotify.com/album/1eVrXeDRsZQFM4DtSbUzKr'},\n",
       "  u'href': u'https://api.spotify.com/v1/albums/1eVrXeDRsZQFM4DtSbUzKr',\n",
       "  u'id': u'1eVrXeDRsZQFM4DtSbUzKr',\n",
       "  u'images': [{u'height': 640,\n",
       "    u'url': u'https://i.scdn.co/image/3ce0ecf171606501e89b63268231f2d3f1450e1f',\n",
       "    u'width': 640},\n",
       "   {u'height': 300,\n",
       "    u'url': u'https://i.scdn.co/image/a3f99be7638c121df93a507af0844a6a29ffd535',\n",
       "    u'width': 300},\n",
       "   {u'height': 64,\n",
       "    u'url': u'https://i.scdn.co/image/97a7801d4b37bf56904e031ff2962a35cd7e6f72',\n",
       "    u'width': 64}],\n",
       "  u'name': u'A Moment Of Stillness (2011 Remastered Edition)',\n",
       "  u'type': u'album',\n",
       "  u'uri': u'spotify:album:1eVrXeDRsZQFM4DtSbUzKr'},\n",
       " u'artists': [{u'external_urls': {u'spotify': u'https://open.spotify.com/artist/079svMEXkbT5nGU2kfoqO2'},\n",
       "   u'href': u'https://api.spotify.com/v1/artists/079svMEXkbT5nGU2kfoqO2',\n",
       "   u'id': u'079svMEXkbT5nGU2kfoqO2',\n",
       "   u'name': u'God Is An Astronaut',\n",
       "   u'type': u'artist',\n",
       "   u'uri': u'spotify:artist:079svMEXkbT5nGU2kfoqO2'}],\n",
       " u'available_markets': [u'AD',\n",
       "  u'AR',\n",
       "  u'AT',\n",
       "  u'AU',\n",
       "  u'BE',\n",
       "  u'BG',\n",
       "  u'BO',\n",
       "  u'BR',\n",
       "  u'CA',\n",
       "  u'CH',\n",
       "  u'CL',\n",
       "  u'CO',\n",
       "  u'CR',\n",
       "  u'CY',\n",
       "  u'CZ',\n",
       "  u'DE',\n",
       "  u'DK',\n",
       "  u'DO',\n",
       "  u'EC',\n",
       "  u'EE',\n",
       "  u'ES',\n",
       "  u'FI',\n",
       "  u'FR',\n",
       "  u'GB',\n",
       "  u'GR',\n",
       "  u'GT',\n",
       "  u'HK',\n",
       "  u'HN',\n",
       "  u'HU',\n",
       "  u'ID',\n",
       "  u'IE',\n",
       "  u'IS',\n",
       "  u'IT',\n",
       "  u'JP',\n",
       "  u'LI',\n",
       "  u'LT',\n",
       "  u'LU',\n",
       "  u'LV',\n",
       "  u'MC',\n",
       "  u'MT',\n",
       "  u'MX',\n",
       "  u'MY',\n",
       "  u'NI',\n",
       "  u'NL',\n",
       "  u'NO',\n",
       "  u'NZ',\n",
       "  u'PA',\n",
       "  u'PE',\n",
       "  u'PH',\n",
       "  u'PL',\n",
       "  u'PT',\n",
       "  u'PY',\n",
       "  u'SE',\n",
       "  u'SG',\n",
       "  u'SK',\n",
       "  u'SV',\n",
       "  u'TR',\n",
       "  u'TW',\n",
       "  u'US',\n",
       "  u'UY'],\n",
       " u'disc_number': 1,\n",
       " u'duration_ms': 193213,\n",
       " u'explicit': False,\n",
       " u'external_ids': {u'isrc': u'TCABC1197625'},\n",
       " u'external_urls': {u'spotify': u'https://open.spotify.com/track/17jB9l5pzarLPbvYTTBWvF'},\n",
       " u'href': u'https://api.spotify.com/v1/tracks/17jB9l5pzarLPbvYTTBWvF',\n",
       " u'id': u'17jB9l5pzarLPbvYTTBWvF',\n",
       " u'name': u'Elysian Fields',\n",
       " u'popularity': 25,\n",
       " u'preview_url': u'https://p.scdn.co/mp3-preview/8464912e952b422ede78a7e5373742bd2ba512bf?cid=8897482848704f2a8f8d7c79726a70d4',\n",
       " u'track_number': 4,\n",
       " u'type': u'track',\n",
       " u'uri': u'spotify:track:17jB9l5pzarLPbvYTTBWvF'}"
      ]
     },
     "execution_count": 104,
     "metadata": {},
     "output_type": "execute_result"
    }
   ],
   "source": [
    "spotify.track('17jB9l5pzarLPbvYTTBWvF')"
   ]
  },
  {
   "cell_type": "code",
   "execution_count": 7,
   "metadata": {
    "collapsed": false
   },
   "outputs": [],
   "source": [
    "import pandas as pd\n",
    "user_data = pd.read_table('../../../../Downloads/lastfm-dataset-1K/userid-timestamp-artid-artname-traid-traname.tsv',\n",
    "                          header = None, nrows = 20,names = ['users'],\n",
    "                        usecols = ['users'])"
   ]
  },
  {
   "cell_type": "code",
   "execution_count": 9,
   "metadata": {
    "collapsed": false
   },
   "outputs": [],
   "source": [
    "import pandas as pd     \n",
    "import csv\n",
    "lf = pd.read_csv('../../../../Downloads/lastfm-dataset-1K_2/userid-timestamp-artid-artname-traid-traname.tsv', \\\n",
    "                 quoting=csv.QUOTE_NONE, header=None, sep='\\t', na_values=[''],  error_bad_lines=False)"
   ]
  },
  {
   "cell_type": "code",
   "execution_count": 13,
   "metadata": {
    "collapsed": false
   },
   "outputs": [],
   "source": [
    "artist_tracks = lf.iloc[:,[3,5]].drop_duplicates()\n",
    "lf = lf.iloc[:,[0,3,5]]\n",
    "lf.columns=['User', 'Artist', 'Track']"
   ]
  },
  {
   "cell_type": "code",
   "execution_count": 17,
   "metadata": {
    "collapsed": false
   },
   "outputs": [
    {
     "name": "stdout",
     "output_type": "stream",
     "text": [
      "Shape: (19150868, 3)\n"
     ]
    },
    {
     "data": {
      "text/html": [
       "<div>\n",
       "<table border=\"1\" class=\"dataframe\">\n",
       "  <thead>\n",
       "    <tr style=\"text-align: right;\">\n",
       "      <th></th>\n",
       "      <th>User</th>\n",
       "      <th>Artist</th>\n",
       "      <th>Track</th>\n",
       "    </tr>\n",
       "  </thead>\n",
       "  <tbody>\n",
       "    <tr>\n",
       "      <th>10</th>\n",
       "      <td>user_000001</td>\n",
       "      <td>坂本龍一</td>\n",
       "      <td>The Last Emperor (Theme)</td>\n",
       "    </tr>\n",
       "    <tr>\n",
       "      <th>11</th>\n",
       "      <td>user_000001</td>\n",
       "      <td>坂本龍一</td>\n",
       "      <td>Happyend (Live_2009_4_15)</td>\n",
       "    </tr>\n",
       "    <tr>\n",
       "      <th>12</th>\n",
       "      <td>user_000001</td>\n",
       "      <td>坂本龍一</td>\n",
       "      <td>Tibetan Dance (Version)</td>\n",
       "    </tr>\n",
       "    <tr>\n",
       "      <th>13</th>\n",
       "      <td>user_000001</td>\n",
       "      <td>坂本龍一</td>\n",
       "      <td>Behind The Mask (Live_2009_4_15)</td>\n",
       "    </tr>\n",
       "    <tr>\n",
       "      <th>14</th>\n",
       "      <td>user_000001</td>\n",
       "      <td>Underworld</td>\n",
       "      <td>Boy, Boy, Boy (Switch Remix)</td>\n",
       "    </tr>\n",
       "    <tr>\n",
       "      <th>15</th>\n",
       "      <td>user_000001</td>\n",
       "      <td>Underworld</td>\n",
       "      <td>Crocodile (Innervisions Orchestra Mix)</td>\n",
       "    </tr>\n",
       "    <tr>\n",
       "      <th>16</th>\n",
       "      <td>user_000001</td>\n",
       "      <td>Ennio Morricone</td>\n",
       "      <td>Ninna Nanna In Blu (Raw Deal Remix)</td>\n",
       "    </tr>\n",
       "    <tr>\n",
       "      <th>17</th>\n",
       "      <td>user_000001</td>\n",
       "      <td>Minus 8</td>\n",
       "      <td>Elysian Fields</td>\n",
       "    </tr>\n",
       "    <tr>\n",
       "      <th>18</th>\n",
       "      <td>user_000001</td>\n",
       "      <td>Beanfield</td>\n",
       "      <td>Planetary Deadlock</td>\n",
       "    </tr>\n",
       "    <tr>\n",
       "      <th>19</th>\n",
       "      <td>user_000001</td>\n",
       "      <td>Dj Linus</td>\n",
       "      <td>Good Morning Love Coffee Is Ready</td>\n",
       "    </tr>\n",
       "  </tbody>\n",
       "</table>\n",
       "</div>"
      ],
      "text/plain": [
       "           User           Artist                                   Track\n",
       "10  user_000001             坂本龍一                The Last Emperor (Theme)\n",
       "11  user_000001             坂本龍一               Happyend (Live_2009_4_15)\n",
       "12  user_000001             坂本龍一                 Tibetan Dance (Version)\n",
       "13  user_000001             坂本龍一        Behind The Mask (Live_2009_4_15)\n",
       "14  user_000001       Underworld            Boy, Boy, Boy (Switch Remix)\n",
       "15  user_000001       Underworld  Crocodile (Innervisions Orchestra Mix)\n",
       "16  user_000001  Ennio Morricone     Ninna Nanna In Blu (Raw Deal Remix)\n",
       "17  user_000001          Minus 8                          Elysian Fields\n",
       "18  user_000001        Beanfield                      Planetary Deadlock\n",
       "19  user_000001         Dj Linus       Good Morning Love Coffee Is Ready"
      ]
     },
     "execution_count": 17,
     "metadata": {},
     "output_type": "execute_result"
    }
   ],
   "source": [
    "print 'Shape:', lf.shape\n",
    "lf.iloc[10:20]"
   ]
  },
  {
   "cell_type": "code",
   "execution_count": 121,
   "metadata": {
    "collapsed": false
   },
   "outputs": [],
   "source": [
    "subset = lf.sample(n=400000)"
   ]
  },
  {
   "cell_type": "code",
   "execution_count": 134,
   "metadata": {
    "collapsed": false
   },
   "outputs": [
    {
     "data": {
      "text/plain": [
       "(400000, 3)"
      ]
     },
     "execution_count": 134,
     "metadata": {},
     "output_type": "execute_result"
    }
   ],
   "source": [
    "subset.shape"
   ]
  },
  {
   "cell_type": "code",
   "execution_count": 135,
   "metadata": {
    "collapsed": false
   },
   "outputs": [],
   "source": [
    "subset = lf.sample(n=400000)\n",
    "tracknames = []\n",
    "artists = []\n",
    "for i in range(0,40000):\n",
    "    tracknames.append(subset.iloc[i,2])\n",
    "    artists.append(subset.iloc[i,1])"
   ]
  },
  {
   "cell_type": "code",
   "execution_count": 149,
   "metadata": {
    "collapsed": false
   },
   "outputs": [
    {
     "data": {
      "text/plain": [
       "40000"
      ]
     },
     "execution_count": 149,
     "metadata": {},
     "output_type": "execute_result"
    }
   ],
   "source": [
    "len(tracknames)"
   ]
  },
  {
   "cell_type": "code",
   "execution_count": 183,
   "metadata": {
    "collapsed": false,
    "scrolled": true
   },
   "outputs": [
    {
     "name": "stdout",
     "output_type": "stream",
     "text": [
      "k k k k k k k k k k k k k k k k k k k k k k k k k k k k k k k k k k k k k k k k\n"
     ]
    }
   ],
   "source": [
    "artist_tracknames = zip(artists, tracknames)\n",
    "i = 0\n",
    "ids = []\n",
    "names=[]\n",
    "track_artist=[]\n",
    "counter = 0\n",
    "for i in range(0,len(artist_tracknames)):\n",
    "    counter += 1\n",
    "    if counter%1000 == 0:\n",
    "        print 'k',\n",
    "    else:\n",
    "        pass\n",
    "    try:\n",
    "        url_pre = 'https://api.spotify.com/v1/search?q=track:'\n",
    "        track = tracknames[i].replace(' ', '%20') +'%20'\n",
    "        artist = 'artist:' + artists[i].replace(' ', '%20') +'%20'\n",
    "        url_post = '&type=track'\n",
    "        url_pre + track + artist + url_post\n",
    "        url = url_pre + track + artist + url_post\n",
    "        response = requests.get(url)\n",
    "        results = response.json()\n",
    "        ids.append(results['tracks']['items'][0]['id'])\n",
    "        names.append(tracknames[i])\n",
    "        track_artist.append(artists[i])\n",
    "    except:\n",
    "        pass"
   ]
  },
  {
   "cell_type": "code",
   "execution_count": 184,
   "metadata": {
    "collapsed": false
   },
   "outputs": [],
   "source": [
    "id_names = zip(ids,names, track_artist)"
   ]
  },
  {
   "cell_type": "code",
   "execution_count": 185,
   "metadata": {
    "collapsed": false
   },
   "outputs": [],
   "source": [
    "sdf = pd.DataFrame(id_names, columns = ['Spotify Track ID', 'Track', 'Artist'])"
   ]
  },
  {
   "cell_type": "code",
   "execution_count": 186,
   "metadata": {
    "collapsed": false
   },
   "outputs": [
    {
     "data": {
      "text/plain": [
       "(30362, 3)"
      ]
     },
     "execution_count": 186,
     "metadata": {},
     "output_type": "execute_result"
    }
   ],
   "source": [
    "sdf.shape"
   ]
  },
  {
   "cell_type": "code",
   "execution_count": 187,
   "metadata": {
    "collapsed": false
   },
   "outputs": [],
   "source": [
    "sdf = sdf.drop_duplicates('Spotify Track ID')"
   ]
  },
  {
   "cell_type": "code",
   "execution_count": 188,
   "metadata": {
    "collapsed": false
   },
   "outputs": [
    {
     "data": {
      "text/plain": [
       "(24323, 3)"
      ]
     },
     "execution_count": 188,
     "metadata": {},
     "output_type": "execute_result"
    }
   ],
   "source": [
    "sdf.shape"
   ]
  },
  {
   "cell_type": "code",
   "execution_count": 189,
   "metadata": {
    "collapsed": false
   },
   "outputs": [],
   "source": [
    "df = pd.merge(lf, sdf, how='left')"
   ]
  },
  {
   "cell_type": "code",
   "execution_count": 198,
   "metadata": {
    "collapsed": false
   },
   "outputs": [],
   "source": [
    "df = df.dropna(axis=0)"
   ]
  },
  {
   "cell_type": "code",
   "execution_count": 199,
   "metadata": {
    "collapsed": true
   },
   "outputs": [],
   "source": [
    "df.to_csv('../projects/Capstone_Project/TrackIDs.csv')"
   ]
  },
  {
   "cell_type": "code",
   "execution_count": 200,
   "metadata": {
    "collapsed": false
   },
   "outputs": [],
   "source": [
    "import pandas as pd\n",
    "df = pd.read_csv('../projects/Capstone_Project/TrackIDs.csv')"
   ]
  },
  {
   "cell_type": "code",
   "execution_count": 201,
   "metadata": {
    "collapsed": false
   },
   "outputs": [
    {
     "data": {
      "text/plain": [
       "(4529705, 6)"
      ]
     },
     "execution_count": 201,
     "metadata": {},
     "output_type": "execute_result"
    }
   ],
   "source": [
    "df.shape"
   ]
  },
  {
   "cell_type": "code",
   "execution_count": 202,
   "metadata": {
    "collapsed": false
   },
   "outputs": [
    {
     "data": {
      "text/plain": [
       "24323"
      ]
     },
     "execution_count": 202,
     "metadata": {},
     "output_type": "execute_result"
    }
   ],
   "source": [
    "df['Spotify Track ID'].nunique()"
   ]
  },
  {
   "cell_type": "code",
   "execution_count": 212,
   "metadata": {
    "collapsed": false
   },
   "outputs": [
    {
     "data": {
      "text/plain": [
       "24323"
      ]
     },
     "execution_count": 212,
     "metadata": {},
     "output_type": "execute_result"
    }
   ],
   "source": [
    "df['Spotify Track ID'].drop_duplicates().nunique()"
   ]
  },
  {
   "cell_type": "code",
   "execution_count": 251,
   "metadata": {
    "collapsed": false,
    "scrolled": false
   },
   "outputs": [
    {
     "name": "stdout",
     "output_type": "stream",
     "text": [
      "k k k k k k k k k k\n"
     ]
    }
   ],
   "source": [
    "feat_dicts = []\n",
    "counter = 0\n",
    "for i in df['Spotify Track ID'].drop_duplicates().iloc[0:10000]:\n",
    "    counter += 1\n",
    "    if counter%1000 == 0:\n",
    "        print 'k',\n",
    "    else:\n",
    "        pass\n",
    "    try:\n",
    "         feat_dicts.append(spotify.audio_features('{}'.format(i))[0])\n",
    "    except:\n",
    "         feat_dicts.append(None)\n",
    "# feat_dicts"
   ]
  },
  {
   "cell_type": "code",
   "execution_count": 253,
   "metadata": {
    "collapsed": false
   },
   "outputs": [
    {
     "name": "stdout",
     "output_type": "stream",
     "text": [
      "10000\n",
      "10000\n"
     ]
    }
   ],
   "source": [
    "print len(feat_dicts)\n",
    "print len(filter(None, feat_dicts))"
   ]
  },
  {
   "cell_type": "code",
   "execution_count": 255,
   "metadata": {
    "collapsed": false
   },
   "outputs": [
    {
     "name": "stdout",
     "output_type": "stream",
     "text": [
      "k k k k k k k k k k\n"
     ]
    }
   ],
   "source": [
    "feat_dicts_2 = []\n",
    "# for i in iff['ID'].values[0]:\n",
    "counter = 0\n",
    "for i in df['Spotify Track ID'].drop_duplicates().iloc[10000:20000]:\n",
    "    counter += 1\n",
    "    if counter%1000 == 0:\n",
    "        print 'k',\n",
    "    else:\n",
    "        pass\n",
    "    try:\n",
    "         feat_dicts_2.append(spotify.audio_features('{}'.format(i))[0])\n",
    "    except:\n",
    "         feat_dicts_2.append(None)"
   ]
  },
  {
   "cell_type": "code",
   "execution_count": 256,
   "metadata": {
    "collapsed": false
   },
   "outputs": [
    {
     "name": "stdout",
     "output_type": "stream",
     "text": [
      "10000\n",
      "10000\n"
     ]
    }
   ],
   "source": [
    "print len(feat_dicts_2)\n",
    "print len(filter(None, feat_dicts_2))"
   ]
  },
  {
   "cell_type": "code",
   "execution_count": 258,
   "metadata": {
    "collapsed": false
   },
   "outputs": [
    {
     "name": "stdout",
     "output_type": "stream",
     "text": [
      "k k k k\n"
     ]
    }
   ],
   "source": [
    "feat_dicts_3 = []\n",
    "# for i in iff['ID'].values[0]:\n",
    "counter = 0\n",
    "for i in df['Spotify Track ID'].drop_duplicates().iloc[20000:24323]:\n",
    "    counter += 1\n",
    "    if counter%1000 == 0:\n",
    "        print 'k',\n",
    "    else:\n",
    "        pass\n",
    "    try:\n",
    "         feat_dicts_3.append(spotify.audio_features('{}'.format(i))[0])\n",
    "    except:\n",
    "         feat_dicts_3.append(None)"
   ]
  },
  {
   "cell_type": "code",
   "execution_count": 259,
   "metadata": {
    "collapsed": false
   },
   "outputs": [
    {
     "name": "stdout",
     "output_type": "stream",
     "text": [
      "4323\n",
      "4323\n"
     ]
    }
   ],
   "source": [
    "print len(feat_dicts_3)\n",
    "print len(filter(None, feat_dicts_3))"
   ]
  },
  {
   "cell_type": "code",
   "execution_count": 263,
   "metadata": {
    "collapsed": false
   },
   "outputs": [
    {
     "data": {
      "text/plain": [
       "24323"
      ]
     },
     "execution_count": 263,
     "metadata": {},
     "output_type": "execute_result"
    }
   ],
   "source": [
    "feat_dict_final = feat_dicts + feat_dicts_2 + feat_dicts_3\n"
   ]
  },
  {
   "cell_type": "code",
   "execution_count": null,
   "metadata": {
    "collapsed": true
   },
   "outputs": [],
   "source": []
  },
  {
   "cell_type": "code",
   "execution_count": 264,
   "metadata": {
    "collapsed": false
   },
   "outputs": [],
   "source": [
    "rows = []\n",
    "columns = []\n",
    "\n",
    "for dic in feat_dict_final:\n",
    "    try:\n",
    "        rows.append(dic.values())\n",
    "        columns.append(dic.keys())\n",
    "    except:\n",
    "        rows.append(None)\n",
    "        columns.append(None)\n",
    "sf = pd.DataFrame(rows, columns = columns[0])"
   ]
  },
  {
   "cell_type": "code",
   "execution_count": null,
   "metadata": {
    "collapsed": false
   },
   "outputs": [],
   "source": []
  },
  {
   "cell_type": "code",
   "execution_count": 266,
   "metadata": {
    "collapsed": false
   },
   "outputs": [],
   "source": [
    "sf.to_csv('../projects/Capstone_Project/TrackContent(Spotify)2.csv')"
   ]
  },
  {
   "cell_type": "code",
   "execution_count": 267,
   "metadata": {
    "collapsed": false
   },
   "outputs": [
    {
     "data": {
      "text/plain": [
       "(24323, 18)"
      ]
     },
     "execution_count": 267,
     "metadata": {},
     "output_type": "execute_result"
    }
   ],
   "source": [
    "sf[['id','instrumentalness', 'time_signature', 'danceability', 'key', 'duration_ms', 'loudness', 'valence', 'energy']].head(3)\n",
    "sf.shape"
   ]
  },
  {
   "cell_type": "markdown",
   "metadata": {
    "collapsed": true
   },
   "source": [
    "https://www.scribd.com/document/328653766/EchoNest-Analyze-Documentation\n",
    "\n",
    "https://developer.spotify.com/web-api/get-audio-features/\n",
    "\n",
    "https://web.archive.org/web/20160528174915/http://developer.echonest.com/docs/v4/_static/AnalyzeDocumentation.pdf\n",
    "\n",
    "http://www.dtic.upf.edu/~ocelma/MusicRecommendationDataset/lastfm-1K.html\n",
    "\n",
    "https://www.youtube.com/watch?v=h9gpufJFF-0\n",
    "\n",
    "    Review Jaccard Similarity \n",
    "    Cosine Distance \n",
    "Recommendations API"
   ]
  },
  {
   "cell_type": "code",
   "execution_count": 3,
   "metadata": {
    "collapsed": false
   },
   "outputs": [],
   "source": [
    "ids = pd.read_csv('../../../datasets/TrackIDs.csv')"
   ]
  },
  {
   "cell_type": "code",
   "execution_count": 25,
   "metadata": {
    "collapsed": false
   },
   "outputs": [
    {
     "data": {
      "text/plain": [
       "'7k5dNiHDR47XeeB7g4kfFu'"
      ]
     },
     "execution_count": 25,
     "metadata": {},
     "output_type": "execute_result"
    }
   ],
   "source": [
    "ids.iloc[15,5]"
   ]
  },
  {
   "cell_type": "code",
   "execution_count": 32,
   "metadata": {
    "collapsed": true
   },
   "outputs": [],
   "source": [
    "results = spotify.track(ids.iloc[65,5])"
   ]
  },
  {
   "cell_type": "code",
   "execution_count": 33,
   "metadata": {
    "collapsed": false
   },
   "outputs": [
    {
     "data": {
      "text/plain": [
       "False"
      ]
     },
     "execution_count": 33,
     "metadata": {},
     "output_type": "execute_result"
    }
   ],
   "source": [
    "results['explicit']"
   ]
  },
  {
   "cell_type": "code",
   "execution_count": 34,
   "metadata": {
    "collapsed": false
   },
   "outputs": [
    {
     "data": {
      "text/plain": [
       "46"
      ]
     },
     "execution_count": 34,
     "metadata": {},
     "output_type": "execute_result"
    }
   ],
   "source": [
    "results['popularity']"
   ]
  },
  {
   "cell_type": "code",
   "execution_count": 72,
   "metadata": {
    "collapsed": false
   },
   "outputs": [],
   "source": [
    "results = spotify.track(ids.iloc[250,5])"
   ]
  },
  {
   "cell_type": "code",
   "execution_count": 73,
   "metadata": {
    "collapsed": false
   },
   "outputs": [],
   "source": [
    "results = spotify.album(results['album']['id'])"
   ]
  },
  {
   "cell_type": "code",
   "execution_count": null,
   "metadata": {
    "collapsed": false
   },
   "outputs": [],
   "source": []
  },
  {
   "cell_type": "code",
   "execution_count": null,
   "metadata": {
    "collapsed": true
   },
   "outputs": [],
   "source": []
  }
 ],
 "metadata": {
  "anaconda-cloud": {},
  "kernelspec": {
   "display_name": "Python 2",
   "language": "python",
   "name": "python2"
  },
  "language_info": {
   "codemirror_mode": {
    "name": "ipython",
    "version": 2
   },
   "file_extension": ".py",
   "mimetype": "text/x-python",
   "name": "python",
   "nbconvert_exporter": "python",
   "pygments_lexer": "ipython2",
   "version": "2.7.13"
  }
 },
 "nbformat": 4,
 "nbformat_minor": 1
}
